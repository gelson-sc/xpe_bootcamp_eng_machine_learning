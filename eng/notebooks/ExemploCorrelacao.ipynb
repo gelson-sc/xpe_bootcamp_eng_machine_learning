{
  "nbformat": 4,
  "nbformat_minor": 0,
  "metadata": {
    "colab": {
      "provenance": []
    },
    "kernelspec": {
      "name": "python3",
      "display_name": "Python 3"
    }
  },
  "cells": [
    {
      "cell_type": "code",
      "metadata": {
        "id": "EVRb2RgKDoIO",
        "colab": {
          "resources": {
            "http://localhost:8080/nbextensions/google.colab/files.js": {
              "data": "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",
              "ok": true,
              "headers": [
                [
                  "content-type",
                  "application/javascript"
                ]
              ],
              "status": 200,
              "status_text": ""
            }
          },
          "base_uri": "https://localhost:8080/",
          "height": 74
        },
        "outputId": "d01bc635-7c52-4da8-ad23-97d68a864114"
      },
      "source": [
        "#Upload do banco de dados utilizado\n",
        "from google.colab import files\n",
        "uploaded = files.upload()"
      ],
      "execution_count": null,
      "outputs": [
        {
          "output_type": "display_data",
          "data": {
            "text/html": [
              "\n",
              "     <input type=\"file\" id=\"files-ab720e46-b655-4358-bab2-05000ae65616\" name=\"files[]\" multiple disabled />\n",
              "     <output id=\"result-ab720e46-b655-4358-bab2-05000ae65616\">\n",
              "      Upload widget is only available when the cell has been executed in the\n",
              "      current browser session. Please rerun this cell to enable.\n",
              "      </output>\n",
              "      <script src=\"/nbextensions/google.colab/files.js\"></script> "
            ],
            "text/plain": [
              "<IPython.core.display.HTML object>"
            ]
          },
          "metadata": {
            "tags": []
          }
        },
        {
          "output_type": "stream",
          "text": [
            "Saving auto-mpg.data to auto-mpg.data\n"
          ],
          "name": "stdout"
        }
      ]
    },
    {
      "cell_type": "code",
      "metadata": {
        "id": "KdtYbeCOD8ie"
      },
      "source": [
        "#definição da biblioteca a ser utilizada\n",
        "import pandas as pd   # biblioteca utilizada para trabalhar com bancos de dados\n",
        "import matplotlib.pyplot as plt"
      ],
      "execution_count": null,
      "outputs": []
    },
    {
      "cell_type": "code",
      "metadata": {
        "id": "QysyDeU6Hwvg"
      },
      "source": [
        "#carrega o banco de dados\n",
        "mpg_data = pd.read_csv('auto-mpg.data', delim_whitespace=True, header=None,\n",
        "            names = ['mpg', 'cylinders', 'displacement','horsepower',\n",
        "            'weight', 'acceleration', 'model_year', 'origin', 'name'],\n",
        "            na_values='?')   #realiza o a leitura do banco de dados"
      ],
      "execution_count": null,
      "outputs": []
    },
    {
      "cell_type": "code",
      "metadata": {
        "id": "nsIXhdtxPXhG",
        "colab": {
          "base_uri": "https://localhost:8080/",
          "height": 195
        },
        "outputId": "3dee9e22-df36-42e7-9d5e-16f515529ebd"
      },
      "source": [
        "# realiza a visualização das primeiras 5 linhas do banco de dados\n",
        "mpg_data.head()"
      ],
      "execution_count": null,
      "outputs": [
        {
          "output_type": "execute_result",
          "data": {
            "text/html": [
              "<div>\n",
              "<style scoped>\n",
              "    .dataframe tbody tr th:only-of-type {\n",
              "        vertical-align: middle;\n",
              "    }\n",
              "\n",
              "    .dataframe tbody tr th {\n",
              "        vertical-align: top;\n",
              "    }\n",
              "\n",
              "    .dataframe thead th {\n",
              "        text-align: right;\n",
              "    }\n",
              "</style>\n",
              "<table border=\"1\" class=\"dataframe\">\n",
              "  <thead>\n",
              "    <tr style=\"text-align: right;\">\n",
              "      <th></th>\n",
              "      <th>mpg</th>\n",
              "      <th>cylinders</th>\n",
              "      <th>displacement</th>\n",
              "      <th>horsepower</th>\n",
              "      <th>weight</th>\n",
              "      <th>acceleration</th>\n",
              "      <th>model_year</th>\n",
              "      <th>origin</th>\n",
              "      <th>name</th>\n",
              "    </tr>\n",
              "  </thead>\n",
              "  <tbody>\n",
              "    <tr>\n",
              "      <th>0</th>\n",
              "      <td>18.0</td>\n",
              "      <td>8</td>\n",
              "      <td>307.0</td>\n",
              "      <td>130.0</td>\n",
              "      <td>3504.0</td>\n",
              "      <td>12.0</td>\n",
              "      <td>70</td>\n",
              "      <td>1</td>\n",
              "      <td>chevrolet chevelle malibu</td>\n",
              "    </tr>\n",
              "    <tr>\n",
              "      <th>1</th>\n",
              "      <td>15.0</td>\n",
              "      <td>8</td>\n",
              "      <td>350.0</td>\n",
              "      <td>165.0</td>\n",
              "      <td>3693.0</td>\n",
              "      <td>11.5</td>\n",
              "      <td>70</td>\n",
              "      <td>1</td>\n",
              "      <td>buick skylark 320</td>\n",
              "    </tr>\n",
              "    <tr>\n",
              "      <th>2</th>\n",
              "      <td>18.0</td>\n",
              "      <td>8</td>\n",
              "      <td>318.0</td>\n",
              "      <td>150.0</td>\n",
              "      <td>3436.0</td>\n",
              "      <td>11.0</td>\n",
              "      <td>70</td>\n",
              "      <td>1</td>\n",
              "      <td>plymouth satellite</td>\n",
              "    </tr>\n",
              "    <tr>\n",
              "      <th>3</th>\n",
              "      <td>16.0</td>\n",
              "      <td>8</td>\n",
              "      <td>304.0</td>\n",
              "      <td>150.0</td>\n",
              "      <td>3433.0</td>\n",
              "      <td>12.0</td>\n",
              "      <td>70</td>\n",
              "      <td>1</td>\n",
              "      <td>amc rebel sst</td>\n",
              "    </tr>\n",
              "    <tr>\n",
              "      <th>4</th>\n",
              "      <td>17.0</td>\n",
              "      <td>8</td>\n",
              "      <td>302.0</td>\n",
              "      <td>140.0</td>\n",
              "      <td>3449.0</td>\n",
              "      <td>10.5</td>\n",
              "      <td>70</td>\n",
              "      <td>1</td>\n",
              "      <td>ford torino</td>\n",
              "    </tr>\n",
              "  </tbody>\n",
              "</table>\n",
              "</div>"
            ],
            "text/plain": [
              "    mpg  cylinders  displacement  ...  model_year  origin                       name\n",
              "0  18.0          8         307.0  ...          70       1  chevrolet chevelle malibu\n",
              "1  15.0          8         350.0  ...          70       1          buick skylark 320\n",
              "2  18.0          8         318.0  ...          70       1         plymouth satellite\n",
              "3  16.0          8         304.0  ...          70       1              amc rebel sst\n",
              "4  17.0          8         302.0  ...          70       1                ford torino\n",
              "\n",
              "[5 rows x 9 columns]"
            ]
          },
          "metadata": {
            "tags": []
          },
          "execution_count": 13
        }
      ]
    },
    {
      "cell_type": "code",
      "metadata": {
        "id": "i5OGNWISH9Jy",
        "colab": {
          "base_uri": "https://localhost:8080/",
          "height": 252
        },
        "outputId": "2f874ec3-7846-4ec0-aa09-4b78970df527"
      },
      "source": [
        "mpg_data.info()  #verifica se existem valores nulos e os tipos de variáveis"
      ],
      "execution_count": null,
      "outputs": [
        {
          "output_type": "stream",
          "text": [
            "<class 'pandas.core.frame.DataFrame'>\n",
            "RangeIndex: 398 entries, 0 to 397\n",
            "Data columns (total 9 columns):\n",
            "mpg             398 non-null float64\n",
            "cylinders       398 non-null int64\n",
            "displacement    398 non-null float64\n",
            "horsepower      392 non-null float64\n",
            "weight          398 non-null float64\n",
            "acceleration    398 non-null float64\n",
            "model_year      398 non-null int64\n",
            "origin          398 non-null int64\n",
            "name            398 non-null object\n",
            "dtypes: float64(5), int64(3), object(1)\n",
            "memory usage: 28.1+ KB\n"
          ],
          "name": "stdout"
        }
      ]
    },
    {
      "cell_type": "code",
      "metadata": {
        "id": "8puiF2PNIa83",
        "colab": {
          "base_uri": "https://localhost:8080/",
          "height": 34
        },
        "outputId": "3503d7f2-b686-4c99-9118-e89ad43ddf12"
      },
      "source": [
        "mpg_data['mpg'].corr(mpg_data['weight']) # função utilizada para encontrar a correlação estrea variáveis"
      ],
      "execution_count": null,
      "outputs": [
        {
          "output_type": "execute_result",
          "data": {
            "text/plain": [
              "-0.8317409332443352"
            ]
          },
          "metadata": {
            "tags": []
          },
          "execution_count": 5
        }
      ]
    },
    {
      "cell_type": "code",
      "metadata": {
        "id": "fRHhTu8xJ2Kr",
        "colab": {
          "base_uri": "https://localhost:8080/",
          "height": 225
        },
        "outputId": "d0041afe-3ed7-4080-a397-46470b1bf13e"
      },
      "source": [
        "mpg_data.drop(['model_year', 'origin'], axis=1).corr(method='spearman') #retira as colunas model_yerar e origin e encontra a matriz de correlação\n"
      ],
      "execution_count": null,
      "outputs": [
        {
          "output_type": "execute_result",
          "data": {
            "text/html": [
              "<div>\n",
              "<style scoped>\n",
              "    .dataframe tbody tr th:only-of-type {\n",
              "        vertical-align: middle;\n",
              "    }\n",
              "\n",
              "    .dataframe tbody tr th {\n",
              "        vertical-align: top;\n",
              "    }\n",
              "\n",
              "    .dataframe thead th {\n",
              "        text-align: right;\n",
              "    }\n",
              "</style>\n",
              "<table border=\"1\" class=\"dataframe\">\n",
              "  <thead>\n",
              "    <tr style=\"text-align: right;\">\n",
              "      <th></th>\n",
              "      <th>mpg</th>\n",
              "      <th>cylinders</th>\n",
              "      <th>displacement</th>\n",
              "      <th>horsepower</th>\n",
              "      <th>weight</th>\n",
              "      <th>acceleration</th>\n",
              "    </tr>\n",
              "  </thead>\n",
              "  <tbody>\n",
              "    <tr>\n",
              "      <th>mpg</th>\n",
              "      <td>1.000000</td>\n",
              "      <td>-0.821864</td>\n",
              "      <td>-0.855692</td>\n",
              "      <td>-0.853616</td>\n",
              "      <td>-0.874947</td>\n",
              "      <td>0.438677</td>\n",
              "    </tr>\n",
              "    <tr>\n",
              "      <th>cylinders</th>\n",
              "      <td>-0.821864</td>\n",
              "      <td>1.000000</td>\n",
              "      <td>0.911876</td>\n",
              "      <td>0.816188</td>\n",
              "      <td>0.873314</td>\n",
              "      <td>-0.474189</td>\n",
              "    </tr>\n",
              "    <tr>\n",
              "      <th>displacement</th>\n",
              "      <td>-0.855692</td>\n",
              "      <td>0.911876</td>\n",
              "      <td>1.000000</td>\n",
              "      <td>0.876171</td>\n",
              "      <td>0.945986</td>\n",
              "      <td>-0.496512</td>\n",
              "    </tr>\n",
              "    <tr>\n",
              "      <th>horsepower</th>\n",
              "      <td>-0.853616</td>\n",
              "      <td>0.816188</td>\n",
              "      <td>0.876171</td>\n",
              "      <td>1.000000</td>\n",
              "      <td>0.878819</td>\n",
              "      <td>-0.658142</td>\n",
              "    </tr>\n",
              "    <tr>\n",
              "      <th>weight</th>\n",
              "      <td>-0.874947</td>\n",
              "      <td>0.873314</td>\n",
              "      <td>0.945986</td>\n",
              "      <td>0.878819</td>\n",
              "      <td>1.000000</td>\n",
              "      <td>-0.404550</td>\n",
              "    </tr>\n",
              "    <tr>\n",
              "      <th>acceleration</th>\n",
              "      <td>0.438677</td>\n",
              "      <td>-0.474189</td>\n",
              "      <td>-0.496512</td>\n",
              "      <td>-0.658142</td>\n",
              "      <td>-0.404550</td>\n",
              "      <td>1.000000</td>\n",
              "    </tr>\n",
              "  </tbody>\n",
              "</table>\n",
              "</div>"
            ],
            "text/plain": [
              "                   mpg  cylinders  ...    weight  acceleration\n",
              "mpg           1.000000  -0.821864  ... -0.874947      0.438677\n",
              "cylinders    -0.821864   1.000000  ...  0.873314     -0.474189\n",
              "displacement -0.855692   0.911876  ...  0.945986     -0.496512\n",
              "horsepower   -0.853616   0.816188  ...  0.878819     -0.658142\n",
              "weight       -0.874947   0.873314  ...  1.000000     -0.404550\n",
              "acceleration  0.438677  -0.474189  ... -0.404550      1.000000\n",
              "\n",
              "[6 rows x 6 columns]"
            ]
          },
          "metadata": {
            "tags": []
          },
          "execution_count": 12
        }
      ]
    },
    {
      "cell_type": "code",
      "metadata": {
        "id": "Vxe0Mh5_KfAI",
        "colab": {
          "base_uri": "https://localhost:8080/",
          "height": 158
        },
        "outputId": "8a50da81-ef79-4d45-cd6b-c43c10d9cfc9"
      },
      "source": [
        "mpg_data.drop(['model_year', 'origin'], axis=1).corr(method='pearson').style.format(\"{:.2}\").background_gradient(cmap=plt.get_cmap('coolwarm'), axis=1)\n"
      ],
      "execution_count": null,
      "outputs": [
        {
          "output_type": "execute_result",
          "data": {
            "text/html": [
              "<style  type=\"text/css\" >\n",
              "    #T_d7a0a128_acb7_11e9_bc8f_0242ac1c0002row0_col0 {\n",
              "            background-color:  #b40426;\n",
              "            color:  #f1f1f1;\n",
              "        }    #T_d7a0a128_acb7_11e9_bc8f_0242ac1c0002row0_col1 {\n",
              "            background-color:  #4358cb;\n",
              "            color:  #f1f1f1;\n",
              "        }    #T_d7a0a128_acb7_11e9_bc8f_0242ac1c0002row0_col2 {\n",
              "            background-color:  #3e51c5;\n",
              "            color:  #f1f1f1;\n",
              "        }    #T_d7a0a128_acb7_11e9_bc8f_0242ac1c0002row0_col3 {\n",
              "            background-color:  #4358cb;\n",
              "            color:  #f1f1f1;\n",
              "        }    #T_d7a0a128_acb7_11e9_bc8f_0242ac1c0002row0_col4 {\n",
              "            background-color:  #3b4cc0;\n",
              "            color:  #f1f1f1;\n",
              "        }    #T_d7a0a128_acb7_11e9_bc8f_0242ac1c0002row0_col5 {\n",
              "            background-color:  #f7b396;\n",
              "            color:  #000000;\n",
              "        }    #T_d7a0a128_acb7_11e9_bc8f_0242ac1c0002row1_col0 {\n",
              "            background-color:  #3b4cc0;\n",
              "            color:  #f1f1f1;\n",
              "        }    #T_d7a0a128_acb7_11e9_bc8f_0242ac1c0002row1_col1 {\n",
              "            background-color:  #b40426;\n",
              "            color:  #f1f1f1;\n",
              "        }    #T_d7a0a128_acb7_11e9_bc8f_0242ac1c0002row1_col2 {\n",
              "            background-color:  #be242e;\n",
              "            color:  #f1f1f1;\n",
              "        }    #T_d7a0a128_acb7_11e9_bc8f_0242ac1c0002row1_col3 {\n",
              "            background-color:  #d24b40;\n",
              "            color:  #f1f1f1;\n",
              "        }    #T_d7a0a128_acb7_11e9_bc8f_0242ac1c0002row1_col4 {\n",
              "            background-color:  #c83836;\n",
              "            color:  #f1f1f1;\n",
              "        }    #T_d7a0a128_acb7_11e9_bc8f_0242ac1c0002row1_col5 {\n",
              "            background-color:  #6a8bef;\n",
              "            color:  #000000;\n",
              "        }    #T_d7a0a128_acb7_11e9_bc8f_0242ac1c0002row2_col0 {\n",
              "            background-color:  #3b4cc0;\n",
              "            color:  #f1f1f1;\n",
              "        }    #T_d7a0a128_acb7_11e9_bc8f_0242ac1c0002row2_col1 {\n",
              "            background-color:  #bd1f2d;\n",
              "            color:  #f1f1f1;\n",
              "        }    #T_d7a0a128_acb7_11e9_bc8f_0242ac1c0002row2_col2 {\n",
              "            background-color:  #b40426;\n",
              "            color:  #f1f1f1;\n",
              "        }    #T_d7a0a128_acb7_11e9_bc8f_0242ac1c0002row2_col3 {\n",
              "            background-color:  #c83836;\n",
              "            color:  #f1f1f1;\n",
              "        }    #T_d7a0a128_acb7_11e9_bc8f_0242ac1c0002row2_col4 {\n",
              "            background-color:  #c12b30;\n",
              "            color:  #f1f1f1;\n",
              "        }    #T_d7a0a128_acb7_11e9_bc8f_0242ac1c0002row2_col5 {\n",
              "            background-color:  #6788ee;\n",
              "            color:  #000000;\n",
              "        }    #T_d7a0a128_acb7_11e9_bc8f_0242ac1c0002row3_col0 {\n",
              "            background-color:  #3b4cc0;\n",
              "            color:  #f1f1f1;\n",
              "        }    #T_d7a0a128_acb7_11e9_bc8f_0242ac1c0002row3_col1 {\n",
              "            background-color:  #d24b40;\n",
              "            color:  #f1f1f1;\n",
              "        }    #T_d7a0a128_acb7_11e9_bc8f_0242ac1c0002row3_col2 {\n",
              "            background-color:  #c83836;\n",
              "            color:  #f1f1f1;\n",
              "        }    #T_d7a0a128_acb7_11e9_bc8f_0242ac1c0002row3_col3 {\n",
              "            background-color:  #b40426;\n",
              "            color:  #f1f1f1;\n",
              "        }    #T_d7a0a128_acb7_11e9_bc8f_0242ac1c0002row3_col4 {\n",
              "            background-color:  #cf453c;\n",
              "            color:  #f1f1f1;\n",
              "        }    #T_d7a0a128_acb7_11e9_bc8f_0242ac1c0002row3_col5 {\n",
              "            background-color:  #4961d2;\n",
              "            color:  #f1f1f1;\n",
              "        }    #T_d7a0a128_acb7_11e9_bc8f_0242ac1c0002row4_col0 {\n",
              "            background-color:  #3b4cc0;\n",
              "            color:  #f1f1f1;\n",
              "        }    #T_d7a0a128_acb7_11e9_bc8f_0242ac1c0002row4_col1 {\n",
              "            background-color:  #c83836;\n",
              "            color:  #f1f1f1;\n",
              "        }    #T_d7a0a128_acb7_11e9_bc8f_0242ac1c0002row4_col2 {\n",
              "            background-color:  #c12b30;\n",
              "            color:  #f1f1f1;\n",
              "        }    #T_d7a0a128_acb7_11e9_bc8f_0242ac1c0002row4_col3 {\n",
              "            background-color:  #cd423b;\n",
              "            color:  #f1f1f1;\n",
              "        }    #T_d7a0a128_acb7_11e9_bc8f_0242ac1c0002row4_col4 {\n",
              "            background-color:  #b40426;\n",
              "            color:  #f1f1f1;\n",
              "        }    #T_d7a0a128_acb7_11e9_bc8f_0242ac1c0002row4_col5 {\n",
              "            background-color:  #84a7fc;\n",
              "            color:  #000000;\n",
              "        }    #T_d7a0a128_acb7_11e9_bc8f_0242ac1c0002row5_col0 {\n",
              "            background-color:  #f7ba9f;\n",
              "            color:  #000000;\n",
              "        }    #T_d7a0a128_acb7_11e9_bc8f_0242ac1c0002row5_col1 {\n",
              "            background-color:  #5b7ae5;\n",
              "            color:  #000000;\n",
              "        }    #T_d7a0a128_acb7_11e9_bc8f_0242ac1c0002row5_col2 {\n",
              "            background-color:  #5572df;\n",
              "            color:  #000000;\n",
              "        }    #T_d7a0a128_acb7_11e9_bc8f_0242ac1c0002row5_col3 {\n",
              "            background-color:  #3b4cc0;\n",
              "            color:  #f1f1f1;\n",
              "        }    #T_d7a0a128_acb7_11e9_bc8f_0242ac1c0002row5_col4 {\n",
              "            background-color:  #6e90f2;\n",
              "            color:  #000000;\n",
              "        }    #T_d7a0a128_acb7_11e9_bc8f_0242ac1c0002row5_col5 {\n",
              "            background-color:  #b40426;\n",
              "            color:  #f1f1f1;\n",
              "        }</style><table id=\"T_d7a0a128_acb7_11e9_bc8f_0242ac1c0002\" ><thead>    <tr>        <th class=\"blank level0\" ></th>        <th class=\"col_heading level0 col0\" >mpg</th>        <th class=\"col_heading level0 col1\" >cylinders</th>        <th class=\"col_heading level0 col2\" >displacement</th>        <th class=\"col_heading level0 col3\" >horsepower</th>        <th class=\"col_heading level0 col4\" >weight</th>        <th class=\"col_heading level0 col5\" >acceleration</th>    </tr></thead><tbody>\n",
              "                <tr>\n",
              "                        <th id=\"T_d7a0a128_acb7_11e9_bc8f_0242ac1c0002level0_row0\" class=\"row_heading level0 row0\" >mpg</th>\n",
              "                        <td id=\"T_d7a0a128_acb7_11e9_bc8f_0242ac1c0002row0_col0\" class=\"data row0 col0\" >1.0</td>\n",
              "                        <td id=\"T_d7a0a128_acb7_11e9_bc8f_0242ac1c0002row0_col1\" class=\"data row0 col1\" >-0.78</td>\n",
              "                        <td id=\"T_d7a0a128_acb7_11e9_bc8f_0242ac1c0002row0_col2\" class=\"data row0 col2\" >-0.8</td>\n",
              "                        <td id=\"T_d7a0a128_acb7_11e9_bc8f_0242ac1c0002row0_col3\" class=\"data row0 col3\" >-0.78</td>\n",
              "                        <td id=\"T_d7a0a128_acb7_11e9_bc8f_0242ac1c0002row0_col4\" class=\"data row0 col4\" >-0.83</td>\n",
              "                        <td id=\"T_d7a0a128_acb7_11e9_bc8f_0242ac1c0002row0_col5\" class=\"data row0 col5\" >0.42</td>\n",
              "            </tr>\n",
              "            <tr>\n",
              "                        <th id=\"T_d7a0a128_acb7_11e9_bc8f_0242ac1c0002level0_row1\" class=\"row_heading level0 row1\" >cylinders</th>\n",
              "                        <td id=\"T_d7a0a128_acb7_11e9_bc8f_0242ac1c0002row1_col0\" class=\"data row1 col0\" >-0.78</td>\n",
              "                        <td id=\"T_d7a0a128_acb7_11e9_bc8f_0242ac1c0002row1_col1\" class=\"data row1 col1\" >1.0</td>\n",
              "                        <td id=\"T_d7a0a128_acb7_11e9_bc8f_0242ac1c0002row1_col2\" class=\"data row1 col2\" >0.95</td>\n",
              "                        <td id=\"T_d7a0a128_acb7_11e9_bc8f_0242ac1c0002row1_col3\" class=\"data row1 col3\" >0.84</td>\n",
              "                        <td id=\"T_d7a0a128_acb7_11e9_bc8f_0242ac1c0002row1_col4\" class=\"data row1 col4\" >0.9</td>\n",
              "                        <td id=\"T_d7a0a128_acb7_11e9_bc8f_0242ac1c0002row1_col5\" class=\"data row1 col5\" >-0.51</td>\n",
              "            </tr>\n",
              "            <tr>\n",
              "                        <th id=\"T_d7a0a128_acb7_11e9_bc8f_0242ac1c0002level0_row2\" class=\"row_heading level0 row2\" >displacement</th>\n",
              "                        <td id=\"T_d7a0a128_acb7_11e9_bc8f_0242ac1c0002row2_col0\" class=\"data row2 col0\" >-0.8</td>\n",
              "                        <td id=\"T_d7a0a128_acb7_11e9_bc8f_0242ac1c0002row2_col1\" class=\"data row2 col1\" >0.95</td>\n",
              "                        <td id=\"T_d7a0a128_acb7_11e9_bc8f_0242ac1c0002row2_col2\" class=\"data row2 col2\" >1.0</td>\n",
              "                        <td id=\"T_d7a0a128_acb7_11e9_bc8f_0242ac1c0002row2_col3\" class=\"data row2 col3\" >0.9</td>\n",
              "                        <td id=\"T_d7a0a128_acb7_11e9_bc8f_0242ac1c0002row2_col4\" class=\"data row2 col4\" >0.93</td>\n",
              "                        <td id=\"T_d7a0a128_acb7_11e9_bc8f_0242ac1c0002row2_col5\" class=\"data row2 col5\" >-0.54</td>\n",
              "            </tr>\n",
              "            <tr>\n",
              "                        <th id=\"T_d7a0a128_acb7_11e9_bc8f_0242ac1c0002level0_row3\" class=\"row_heading level0 row3\" >horsepower</th>\n",
              "                        <td id=\"T_d7a0a128_acb7_11e9_bc8f_0242ac1c0002row3_col0\" class=\"data row3 col0\" >-0.78</td>\n",
              "                        <td id=\"T_d7a0a128_acb7_11e9_bc8f_0242ac1c0002row3_col1\" class=\"data row3 col1\" >0.84</td>\n",
              "                        <td id=\"T_d7a0a128_acb7_11e9_bc8f_0242ac1c0002row3_col2\" class=\"data row3 col2\" >0.9</td>\n",
              "                        <td id=\"T_d7a0a128_acb7_11e9_bc8f_0242ac1c0002row3_col3\" class=\"data row3 col3\" >1.0</td>\n",
              "                        <td id=\"T_d7a0a128_acb7_11e9_bc8f_0242ac1c0002row3_col4\" class=\"data row3 col4\" >0.86</td>\n",
              "                        <td id=\"T_d7a0a128_acb7_11e9_bc8f_0242ac1c0002row3_col5\" class=\"data row3 col5\" >-0.69</td>\n",
              "            </tr>\n",
              "            <tr>\n",
              "                        <th id=\"T_d7a0a128_acb7_11e9_bc8f_0242ac1c0002level0_row4\" class=\"row_heading level0 row4\" >weight</th>\n",
              "                        <td id=\"T_d7a0a128_acb7_11e9_bc8f_0242ac1c0002row4_col0\" class=\"data row4 col0\" >-0.83</td>\n",
              "                        <td id=\"T_d7a0a128_acb7_11e9_bc8f_0242ac1c0002row4_col1\" class=\"data row4 col1\" >0.9</td>\n",
              "                        <td id=\"T_d7a0a128_acb7_11e9_bc8f_0242ac1c0002row4_col2\" class=\"data row4 col2\" >0.93</td>\n",
              "                        <td id=\"T_d7a0a128_acb7_11e9_bc8f_0242ac1c0002row4_col3\" class=\"data row4 col3\" >0.86</td>\n",
              "                        <td id=\"T_d7a0a128_acb7_11e9_bc8f_0242ac1c0002row4_col4\" class=\"data row4 col4\" >1.0</td>\n",
              "                        <td id=\"T_d7a0a128_acb7_11e9_bc8f_0242ac1c0002row4_col5\" class=\"data row4 col5\" >-0.42</td>\n",
              "            </tr>\n",
              "            <tr>\n",
              "                        <th id=\"T_d7a0a128_acb7_11e9_bc8f_0242ac1c0002level0_row5\" class=\"row_heading level0 row5\" >acceleration</th>\n",
              "                        <td id=\"T_d7a0a128_acb7_11e9_bc8f_0242ac1c0002row5_col0\" class=\"data row5 col0\" >0.42</td>\n",
              "                        <td id=\"T_d7a0a128_acb7_11e9_bc8f_0242ac1c0002row5_col1\" class=\"data row5 col1\" >-0.51</td>\n",
              "                        <td id=\"T_d7a0a128_acb7_11e9_bc8f_0242ac1c0002row5_col2\" class=\"data row5 col2\" >-0.54</td>\n",
              "                        <td id=\"T_d7a0a128_acb7_11e9_bc8f_0242ac1c0002row5_col3\" class=\"data row5 col3\" >-0.69</td>\n",
              "                        <td id=\"T_d7a0a128_acb7_11e9_bc8f_0242ac1c0002row5_col4\" class=\"data row5 col4\" >-0.42</td>\n",
              "                        <td id=\"T_d7a0a128_acb7_11e9_bc8f_0242ac1c0002row5_col5\" class=\"data row5 col5\" >1.0</td>\n",
              "            </tr>\n",
              "    </tbody></table>"
            ],
            "text/plain": [
              "<pandas.io.formats.style.Styler at 0x7f1f0621ce10>"
            ]
          },
          "metadata": {
            "tags": []
          },
          "execution_count": 11
        }
      ]
    },
    {
      "cell_type": "code",
      "metadata": {
        "id": "FwU12P2nLs4F",
        "colab": {
          "base_uri": "https://localhost:8080/",
          "height": 404
        },
        "outputId": "a714cc9d-8c5c-47b5-bb39-d42c7c8f7e28"
      },
      "source": [
        "# plot dos gráficos de dispersão para a variável MPG\n",
        "plt.rcParams['figure.figsize'] = [16, 6]\n",
        "\n",
        "fig, ax = plt.subplots(nrows=1, ncols=3)\n",
        "\n",
        "ax=ax.flatten()\n",
        "\n",
        "cols = ['weight', 'horsepower', 'acceleration']\n",
        "colors=['#415952', '#f35134', '#243AB5', '#243AB5']\n",
        "j=0\n",
        "\n",
        "for i in ax:\n",
        "    if j==0:\n",
        "        i.set_ylabel('MPG')\n",
        "    i.scatter(mpg_data[cols[j]], mpg_data['mpg'],  alpha=0.5, color=colors[j])\n",
        "    i.set_xlabel(cols[j])\n",
        "    i.set_title('Pearson: %s'%mpg_data.corr().loc[cols[j]]['mpg'].round(2)+' Spearman: %s'%mpg_data.corr(method='spearman').loc[cols[j]]['mpg'].round(2))\n",
        "    j+=1\n",
        "\n",
        "plt.show()"
      ],
      "execution_count": null,
      "outputs": [
        {
          "output_type": "display_data",
          "data": {
            "image/png": "[encoded data removed]",
            "text/plain": [
              "<Figure size 1152x432 with 3 Axes>"
            ]
          },
          "metadata": {
            "tags": []
          }
        }
      ]
    }
  ]
}